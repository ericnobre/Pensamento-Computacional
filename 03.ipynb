{
  "nbformat": 4,
  "nbformat_minor": 0,
  "metadata": {
    "colab": {
      "name": "Copy of 03.ipynb",
      "version": "0.3.2",
      "provenance": [],
      "collapsed_sections": [],
      "include_colab_link": true
    },
    "language_info": {
      "codemirror_mode": {
        "name": "ipython",
        "version": 3
      },
      "file_extension": ".py",
      "mimetype": "text/x-python",
      "name": "python",
      "nbconvert_exporter": "python",
      "pygments_lexer": "ipython3",
      "version": "3.6.8"
    },
    "kernelspec": {
      "display_name": "Python 3",
      "language": "python",
      "name": "python3"
    }
  },
  "cells": [
    {
      "cell_type": "markdown",
      "metadata": {
        "id": "view-in-github",
        "colab_type": "text"
      },
      "source": [
        "<a href=\"https://colab.research.google.com/github/ericnobre/Pensamento-Computacional/blob/master/03.ipynb\" target=\"_parent\"><img src=\"https://colab.research.google.com/assets/colab-badge.svg\" alt=\"Open In Colab\"/></a>"
      ]
    },
    {
      "cell_type": "markdown",
      "metadata": {
        "id": "1rXO97kXqiob",
        "colab_type": "text"
      },
      "source": [
        "<small><small><i>\n",
        "Este notebook foi baseado nos notebooks disponíveis em [https://gitlab.erc.monash.edu.au/andrease/Python4Maths.git]\n",
        "</i></small></small>"
      ]
    },
    {
      "cell_type": "markdown",
      "metadata": {
        "id": "fhdUtkVpqiod",
        "colab_type": "text"
      },
      "source": [
        "# Repetindo sem perder o controle!\n",
        "\n",
        "Python permite que um trecho de código seja executado múltiplas vezes **estruturas de repetição**. \n",
        "\n",
        "Pra não perder o controle do seu código e cair em um loop infinito, estruturas de repetição se baseiam em **condições de parada**.\n",
        "\n",
        "Neste roteiro, você aprenderá a utilizar estes conceitos da linguagem Python.\n",
        "\n",
        "## Estruturas de repetição\n",
        "\n",
        "Muitas vezes, é necessário executar um mesmo trecho de código várias vezes:\n",
        "* Quando um sistema pede uma senha ao usuário, mas ele tem uma certa quantidade de tentativas possívels.\n",
        "* Quando queremos cadastrar múltiplos contatos em uma agenda.\n",
        "* Quando estamos calculando a média de várias avaliações de uma disciplina.\n",
        "\n",
        "Em todas essas situações, precisamos repetir um trecho de código **sem cair em um loop infinito**. Há três situações comuns:\n",
        "* Sabemos quantas vezes queremos executar um código.\n",
        "* Queremos executar um código enquanto uma condição for verdadeira.\n",
        "* Queremos executar um código até que determinada situação aconteça.\n",
        "\n",
        "Python oferece duas estruturas de repetição, que podem ser usadas nas situações descritas acima:"
      ]
    },
    {
      "cell_type": "markdown",
      "metadata": {
        "id": "npiK17g5qioe",
        "colab_type": "text"
      },
      "source": [
        "| Estrutura | Significado |\n",
        "|:----:|:--|\n",
        "| ```for``` | Sabemos quantas vezes queremos executar um código.  <br> Queremos iterar sobre os elementos de uma coleção.|\n",
        "| ```while```  | Queremos executar um código até que determinada situação aconteça. <br> Queremos executar um código enquanto uma condição for verdadeira. |"
      ]
    },
    {
      "cell_type": "markdown",
      "metadata": {
        "id": "DJaC6-3Xqiof",
        "colab_type": "text"
      },
      "source": [
        "## A estrutura ```for```"
      ]
    },
    {
      "cell_type": "markdown",
      "metadata": {
        "id": "vJZe5iKxqiog",
        "colab_type": "text"
      },
      "source": [
        "Quando sabemos quantas vezes queremos executar um código, a estrutura de repetição ```for``` deve ser nossa escolha:\n",
        "\n",
        "```python\n",
        "for iterador in intervalo:\n",
        "    expressao\n",
        "    expressao\n",
        "    ...\n",
        "```\n",
        "\n",
        "As regras básicas para o uso da estrutura **for** em Python são:\n",
        "\n",
        "* O trecho de código delimitado por uma estrutura **for** é chamado bloco e deve ser identado.\n",
        "* O procedimento **range(inicio, fim)** permite definir um intervalo de valores que a variavel **iterador** pode assumir durante a execução do ```for```. \n",
        "\n",
        "O exemplo abaixo mostra como esta estrutura pode ser usada para que um código seja repetido por 5 vezes:"
      ]
    },
    {
      "cell_type": "code",
      "metadata": {
        "scrolled": true,
        "id": "XCU-t0GGqioh",
        "colab_type": "code",
        "colab": {}
      },
      "source": [
        "for i in range(0,5): # asuhfuahssahasf\n",
        "    print(\"Execução\", i+1)"
      ],
      "execution_count": 0,
      "outputs": []
    },
    {
      "cell_type": "markdown",
      "metadata": {
        "id": "HsqhDJCyqiok",
        "colab_type": "text"
      },
      "source": [
        "Note que a função range define intervalos do tipo **[início, fim)**, isto é, valores maiores ou iguais a **início** e menores que **fim**.\n",
        "\n",
        "Também é possível definir intervalos mais elaborados, criando séries com diferentes crescimentos ou até mesmo decréscimos:"
      ]
    },
    {
      "cell_type": "code",
      "metadata": {
        "scrolled": true,
        "id": "OJIlCd4Wqiol",
        "colab_type": "code",
        "colab": {}
      },
      "source": [
        "# Série crescedo de 2 em 2\n",
        "for i in range(0,5,2):\n",
        "    print(\"Valor de i:\", i)"
      ],
      "execution_count": 0,
      "outputs": []
    },
    {
      "cell_type": "code",
      "metadata": {
        "scrolled": true,
        "id": "LOWVFjDQqion",
        "colab_type": "code",
        "colab": {}
      },
      "source": [
        "# Série decrescendo de 5 em 5\n",
        "for i in range(15,-20,-5):\n",
        "    print(\"Valor de i:\", i)"
      ],
      "execution_count": 0,
      "outputs": []
    },
    {
      "cell_type": "markdown",
      "metadata": {
        "id": "PiFtG5gxqioq",
        "colab_type": "text"
      },
      "source": [
        "### Exercícios de fixação"
      ]
    },
    {
      "cell_type": "markdown",
      "metadata": {
        "id": "gbvJ-qdKqior",
        "colab_type": "text"
      },
      "source": [
        "1 - Peça ao usuário suas notas das 3 unidades de uma disciplina e calcule sua média."
      ]
    },
    {
      "cell_type": "code",
      "metadata": {
        "id": "JkPHP0MEqior",
        "colab_type": "code",
        "outputId": "2df30d9d-aa8a-4086-d2ec-1064fcea64d0",
        "colab": {
          "base_uri": "https://localhost:8080/",
          "height": 84
        }
      },
      "source": [
        "s = 0 \n",
        "\n",
        "for i in range(0,3):\n",
        "    n = float(input(\"Digite sua nota:\" ))\n",
        "    s = s + n\n",
        "media = s/3\n",
        "print(\"Sua média é: \", media)"
      ],
      "execution_count": 0,
      "outputs": [
        {
          "output_type": "stream",
          "text": [
            "Digite sua nota:1\n",
            "Digite sua nota:10\n",
            "Digite sua nota:3\n",
            "Sua média é:  4.666666666666667\n"
          ],
          "name": "stdout"
        }
      ]
    },
    {
      "cell_type": "markdown",
      "metadata": {
        "id": "V6NN8F4kqiox",
        "colab_type": "text"
      },
      "source": [
        "2 - Solicite ao usuário um inteiro positivo *n* e imprima a soma dos números pares entre 0 e *n*."
      ]
    },
    {
      "cell_type": "code",
      "metadata": {
        "id": "ieBbz525qioy",
        "colab_type": "code",
        "outputId": "cb6d4665-b6bf-4537-f013-cb6710607543",
        "colab": {
          "base_uri": "https://localhost:8080/",
          "height": 50
        }
      },
      "source": [
        "n = int(input(\"Digite um número inteiro positivo: \"))\n",
        "soma = 0\n",
        "for i in range(0,n, 2):\n",
        "    soma = soma + i\n",
        "print(\"A soma dos pares = \", soma)"
      ],
      "execution_count": 0,
      "outputs": [
        {
          "output_type": "stream",
          "text": [
            "Digite um número inteiro positivo: 10\n",
            "A soma dos pares =  20\n"
          ],
          "name": "stdout"
        }
      ]
    },
    {
      "cell_type": "markdown",
      "metadata": {
        "id": "HUq8mmtrqio2",
        "colab_type": "text"
      },
      "source": [
        "3 - Analise os números entre -25 e 50. Se o número for múltiplo de 2, imprima BUS. Se for múltiplo de 3, imprima FEES. Caso seja múltiplo de 2 e de 3 ao mesmo tempo, imprima BUS e FEES."
      ]
    },
    {
      "cell_type": "code",
      "metadata": {
        "id": "Uo7jhgF5qio3",
        "colab_type": "code",
        "outputId": "e04144a1-116e-47bd-cdd7-aab91e84b57e",
        "colab": {
          "base_uri": "https://localhost:8080/",
          "height": 2537
        }
      },
      "source": [
        "for i in range(-25,50):\n",
        "   print(i)\n",
        "   if i%2 == 0:\n",
        "       print(\"BUS\")\n",
        "   if i%3 == 0:\n",
        "       print(\"FEES\")\n",
        "   if i%2 == 0 and i%3 == 0:\n",
        "       print (\"BUS FEES\")\n",
        "   "
      ],
      "execution_count": 0,
      "outputs": [
        {
          "output_type": "stream",
          "text": [
            "-25\n",
            "-24\n",
            "BUS\n",
            "FEES\n",
            "BUS FEES\n",
            "-23\n",
            "-22\n",
            "BUS\n",
            "-21\n",
            "FEES\n",
            "-20\n",
            "BUS\n",
            "-19\n",
            "-18\n",
            "BUS\n",
            "FEES\n",
            "BUS FEES\n",
            "-17\n",
            "-16\n",
            "BUS\n",
            "-15\n",
            "FEES\n",
            "-14\n",
            "BUS\n",
            "-13\n",
            "-12\n",
            "BUS\n",
            "FEES\n",
            "BUS FEES\n",
            "-11\n",
            "-10\n",
            "BUS\n",
            "-9\n",
            "FEES\n",
            "-8\n",
            "BUS\n",
            "-7\n",
            "-6\n",
            "BUS\n",
            "FEES\n",
            "BUS FEES\n",
            "-5\n",
            "-4\n",
            "BUS\n",
            "-3\n",
            "FEES\n",
            "-2\n",
            "BUS\n",
            "-1\n",
            "0\n",
            "BUS\n",
            "FEES\n",
            "BUS FEES\n",
            "1\n",
            "2\n",
            "BUS\n",
            "3\n",
            "FEES\n",
            "4\n",
            "BUS\n",
            "5\n",
            "6\n",
            "BUS\n",
            "FEES\n",
            "BUS FEES\n",
            "7\n",
            "8\n",
            "BUS\n",
            "9\n",
            "FEES\n",
            "10\n",
            "BUS\n",
            "11\n",
            "12\n",
            "BUS\n",
            "FEES\n",
            "BUS FEES\n",
            "13\n",
            "14\n",
            "BUS\n",
            "15\n",
            "FEES\n",
            "16\n",
            "BUS\n",
            "17\n",
            "18\n",
            "BUS\n",
            "FEES\n",
            "BUS FEES\n",
            "19\n",
            "20\n",
            "BUS\n",
            "21\n",
            "FEES\n",
            "22\n",
            "BUS\n",
            "23\n",
            "24\n",
            "BUS\n",
            "FEES\n",
            "BUS FEES\n",
            "25\n",
            "26\n",
            "BUS\n",
            "27\n",
            "FEES\n",
            "28\n",
            "BUS\n",
            "29\n",
            "30\n",
            "BUS\n",
            "FEES\n",
            "BUS FEES\n",
            "31\n",
            "32\n",
            "BUS\n",
            "33\n",
            "FEES\n",
            "34\n",
            "BUS\n",
            "35\n",
            "36\n",
            "BUS\n",
            "FEES\n",
            "BUS FEES\n",
            "37\n",
            "38\n",
            "BUS\n",
            "39\n",
            "FEES\n",
            "40\n",
            "BUS\n",
            "41\n",
            "42\n",
            "BUS\n",
            "FEES\n",
            "BUS FEES\n",
            "43\n",
            "44\n",
            "BUS\n",
            "45\n",
            "FEES\n",
            "46\n",
            "BUS\n",
            "47\n",
            "48\n",
            "BUS\n",
            "FEES\n",
            "BUS FEES\n",
            "49\n"
          ],
          "name": "stdout"
        }
      ]
    },
    {
      "cell_type": "markdown",
      "metadata": {
        "id": "ar1WqUGLqio6",
        "colab_type": "text"
      },
      "source": [
        "4 - Solicite ao usuário um inteiro positivo *n* e calcule o fatorial de *n*."
      ]
    },
    {
      "cell_type": "code",
      "metadata": {
        "id": "nkPwhNoEqio7",
        "colab_type": "code",
        "outputId": "bd917e38-23fe-4043-f244-fdb94aea3238",
        "colab": {
          "base_uri": "https://localhost:8080/",
          "height": 50
        }
      },
      "source": [
        "n = int(input(\"Digite um numero inteiro positivo: \"))\n",
        "\n",
        "for i in range (n, 1, -1):\n",
        "    n = n*(i-1)\n",
        "print(n)"
      ],
      "execution_count": 0,
      "outputs": [
        {
          "output_type": "stream",
          "text": [
            "Digite um numero inteiro positivo: 7\n",
            "5040\n"
          ],
          "name": "stdout"
        }
      ]
    },
    {
      "cell_type": "markdown",
      "metadata": {
        "id": "nj5zfeTVqio9",
        "colab_type": "text"
      },
      "source": [
        "## A estrutura ```while```"
      ]
    },
    {
      "cell_type": "markdown",
      "metadata": {
        "id": "XPKNv4Etqio-",
        "colab_type": "text"
      },
      "source": [
        "Quando queremos executar um código enquanto uma condição for verdadeira, a estrutura de repetição ```while``` deve ser nossa escolha:\n",
        "\n",
        "```python\n",
        "while condicao:\n",
        "    expressao\n",
        "    expressao\n",
        "    ...\n",
        "```\n",
        "\n",
        "As regras básicas para o uso da estrutura **while** em Python são:\n",
        "\n",
        "* O trecho de código delimitado por uma estrutura **while** é chamado bloco e deve ser identado.\n",
        "* O bloco delimitado por uma estrutura **while** será executado enquanto a expressão lógica (```condicao```) for verdadeira (```True```).\n",
        "\n",
        "Um exemplo de uso desta estrutura é o caso em que não se sabe quantas vezes será necessário executar um trecho de código:"
      ]
    },
    {
      "cell_type": "code",
      "metadata": {
        "scrolled": true,
        "id": "PsH2x9lFqio_",
        "colab_type": "code",
        "outputId": "9442cf0e-4982-49cf-9b3f-13dc364e0650",
        "colab": {
          "base_uri": "https://localhost:8080/",
          "height": 67
        }
      },
      "source": [
        "from random import randint\n",
        "\n",
        "n_multiplos = 0\n",
        "while n_multiplos < 3:\n",
        "    numero = randint(0,30)\n",
        "    if numero % 3 == 0:\n",
        "        n_multiplos += 1\n",
        "        print(\"Múltiplo #\", n_multiplos, \"-\", numero)"
      ],
      "execution_count": 0,
      "outputs": [
        {
          "output_type": "stream",
          "text": [
            "Múltiplo # 1 - 27\n",
            "Múltiplo # 2 - 9\n",
            "Múltiplo # 3 - 12\n"
          ],
          "name": "stdout"
        }
      ]
    },
    {
      "cell_type": "markdown",
      "metadata": {
        "id": "gFxtffT1qipD",
        "colab_type": "text"
      },
      "source": [
        "Também é possível utilizar a estrutura de repetição ```while``` quando queremos executar um código até que uma determinada situação ocorra:\n",
        "\n",
        "```python\n",
        "while True:\n",
        "    expressao\n",
        "    expressao\n",
        "    ...\n",
        "    if condicao:\n",
        "        break\n",
        "```\n",
        "\n",
        "As regras básicas para o uso da estrutura **while** neste contexto são:\n",
        "\n",
        "* O bloco será executado uma ou mais vezes, até que a condição se torne verdadeira.\n",
        "* O comando **```break```** provoca a interrupção da repetição.\n",
        "\n",
        "O exemplo abaixo mostra como esta estrutura pode ser usada para solicitar uma senha ao usuário até que ele acerte a senha:"
      ]
    },
    {
      "cell_type": "code",
      "metadata": {
        "scrolled": false,
        "id": "Um8kxI3_qipE",
        "colab_type": "code",
        "outputId": "cd363d3c-0704-45bb-a870-329990376e7a",
        "colab": {
          "base_uri": "https://localhost:8080/",
          "height": 101
        }
      },
      "source": [
        "senha_correta = \"swordfish\"\n",
        "while True:\n",
        "    senha = input(\"Informe sua senha: \")\n",
        "    if senha == senha_correta:\n",
        "        break\n",
        "    else:\n",
        "        print(\"Senha incorreta!\")"
      ],
      "execution_count": 0,
      "outputs": [
        {
          "output_type": "stream",
          "text": [
            "Informe sua senha: 10\n",
            "Senha incorreta!\n",
            "Informe sua senha: eric\n",
            "Senha incorreta!\n",
            "Informe sua senha: swordfish\n"
          ],
          "name": "stdout"
        }
      ]
    },
    {
      "cell_type": "markdown",
      "metadata": {
        "id": "Wny2YyKuqipG",
        "colab_type": "text"
      },
      "source": [
        "### Exercícios de fixação"
      ]
    },
    {
      "cell_type": "markdown",
      "metadata": {
        "id": "lxHvvnQXqipH",
        "colab_type": "text"
      },
      "source": [
        "1 - Sorteie um número entre 0 e 10 e peça ao usuário para tentar adivinhá-lo. Quando o usuário acertar o número, informe quantas tentativas foram necessárias."
      ]
    },
    {
      "cell_type": "code",
      "metadata": {
        "id": "8-hBalViqipH",
        "colab_type": "code",
        "outputId": "8625520d-63db-440c-e4ac-e70b33927a0f",
        "colab": {
          "base_uri": "https://localhost:8080/",
          "height": 118
        }
      },
      "source": [
        "from random import randint\n",
        "n = randint(0,10)\n",
        "tentativas = 0\n",
        "num = -1\n",
        "print(\"Tente adivinhar o numero\")\n",
        "while n != num:\n",
        "    num = int(input(\"Digite outro número: \"))\n",
        "    tentativas += 1\n",
        "print(\"Você acertou em \", tentativas, \" tentativas\")\n",
        "\n"
      ],
      "execution_count": 0,
      "outputs": [
        {
          "output_type": "stream",
          "text": [
            "Tente adivinhar o numero\n",
            "Digite outro número: 2\n",
            "Digite outro número: 3\n",
            "Digite outro número: 4\n",
            "Digite outro número: 5\n",
            "Você acertou em  4  tentativas\n"
          ],
          "name": "stdout"
        }
      ]
    },
    {
      "cell_type": "markdown",
      "metadata": {
        "id": "sjfbMnfPqipJ",
        "colab_type": "text"
      },
      "source": [
        "### Pulando parte do código\n",
        "\n",
        "É possível evitar que parte do código seja executada durante uma repetição utilizando o comando ```continue```.\n"
      ]
    },
    {
      "cell_type": "code",
      "metadata": {
        "scrolled": true,
        "id": "0CqdOrlFqipK",
        "colab_type": "code",
        "outputId": "5195ddf5-720d-4281-a882-ea522926b8d5",
        "colab": {
          "base_uri": "https://localhost:8080/",
          "height": 168
        }
      },
      "source": [
        "soma = 0\n",
        "for i in range(10):\n",
        "    if i == 3:\n",
        "        continue\n",
        "    print(i)"
      ],
      "execution_count": 0,
      "outputs": [
        {
          "output_type": "stream",
          "text": [
            "0\n",
            "1\n",
            "2\n",
            "4\n",
            "5\n",
            "6\n",
            "7\n",
            "8\n",
            "9\n"
          ],
          "name": "stdout"
        }
      ]
    },
    {
      "cell_type": "markdown",
      "metadata": {
        "id": "ZFVlFDv3qipM",
        "colab_type": "text"
      },
      "source": [
        "### Exercícios de fixação"
      ]
    },
    {
      "cell_type": "markdown",
      "metadata": {
        "id": "2hIOtTndqipN",
        "colab_type": "text"
      },
      "source": [
        "1 - Imprima os números partes entre 0 e 50, pulando os números múltiplos de 4. Use o comando ```continue```."
      ]
    },
    {
      "cell_type": "code",
      "metadata": {
        "id": "wz5voL9wqipN",
        "colab_type": "code",
        "outputId": "3f2e6466-a27c-416f-a195-b834839b9a42",
        "colab": {
          "base_uri": "https://localhost:8080/",
          "height": 638
        }
      },
      "source": [
        "for i in range(50):\n",
        "    if i%4 == 0:\n",
        "        continue\n",
        "    print(i)"
      ],
      "execution_count": 0,
      "outputs": [
        {
          "output_type": "stream",
          "text": [
            "1\n",
            "2\n",
            "3\n",
            "5\n",
            "6\n",
            "7\n",
            "9\n",
            "10\n",
            "11\n",
            "13\n",
            "14\n",
            "15\n",
            "17\n",
            "18\n",
            "19\n",
            "21\n",
            "22\n",
            "23\n",
            "25\n",
            "26\n",
            "27\n",
            "29\n",
            "30\n",
            "31\n",
            "33\n",
            "34\n",
            "35\n",
            "37\n",
            "38\n",
            "39\n",
            "41\n",
            "42\n",
            "43\n",
            "45\n",
            "46\n",
            "47\n",
            "49\n"
          ],
          "name": "stdout"
        }
      ]
    },
    {
      "cell_type": "markdown",
      "metadata": {
        "id": "9Bq_E0SYqipR",
        "colab_type": "text"
      },
      "source": [
        "## Combinando múltiplas estruturas de repetição"
      ]
    },
    {
      "cell_type": "markdown",
      "metadata": {
        "id": "LtIdzlp7qipV",
        "colab_type": "text"
      },
      "source": [
        "Assim como vimos para estruturas de decisão, também podemos combinar estruturas de repetição em múltiplos níveis. \n",
        "\n",
        "As regras básicas para **aninhar estruturas de repetição** em Python são:\n",
        "* Não há limite com relação a quantas estruturas e em quantos níveis.\n",
        "* Blocos de níveis mais profundos devem apresentar maior grau de identação.\n",
        "* Os efeitos dos comandos ```break``` e ```continue``` se limitam ao nível atual.\n",
        "\n",
        "O exemplo abaixo mostra como imprimir uma matriz identidade. Note que a função ```print``` pode ser usada para imprimir várias vezes em uma mesma linha, utilizando pra isso a opção ```end```."
      ]
    },
    {
      "cell_type": "code",
      "metadata": {
        "id": "RslfrFNJqipW",
        "colab_type": "code",
        "outputId": "917f3429-4f86-4da7-e692-9949e374f5f1",
        "colab": {
          "base_uri": "https://localhost:8080/",
          "height": 67
        }
      },
      "source": [
        "for i in range(3):\n",
        "    for j in range(3):\n",
        "        if i == j:\n",
        "            print(\" 1 \", end='')\n",
        "        else:\n",
        "            print(\" 0 \", end='')\n",
        "    print()"
      ],
      "execution_count": 0,
      "outputs": [
        {
          "output_type": "stream",
          "text": [
            " 1  0  0 \n",
            " 0  1  0 \n",
            " 0  0  1 \n"
          ],
          "name": "stdout"
        }
      ]
    },
    {
      "cell_type": "markdown",
      "metadata": {
        "collapsed": true,
        "id": "8EQSusEIqipa",
        "colab_type": "text"
      },
      "source": [
        "## Exercícios do URI"
      ]
    },
    {
      "cell_type": "markdown",
      "metadata": {
        "collapsed": true,
        "id": "Xh17fUVnqipa",
        "colab_type": "text"
      },
      "source": [
        "[1080](https://www.urionlinejudge.com.br/judge/pt/problems/view/1080) - Calcular estatísticas é uma importante tarefa dos sistema de computação que trabalham com análise de dados. Em um roteiro anterior, você implementou uma função para uso em histogramas, que informava a qual intervalo um elemento pertencia.\n",
        "\n",
        "Neste exercício, você vai voltar pro mundo real e de fato preparar um histograma dos dados (colher de chá: não precisa gerar o gráfico no final).\n",
        "\n",
        "Escreva um código Python que receba um inteiro informando quantos números no intervalo \\[0,100\\) serão informados a seguir. Considerando 5 subintervalos de igual tamanho, seu programa deverá calcular a frequência de elementos presentes em cada subintervalo.\n",
        "\n",
        "Por fim, seu programa deverá informar os elementos máximo e mínimo encontrados nos dados, e suas posições na sequência dos dados de entrada."
      ]
    },
    {
      "cell_type": "markdown",
      "metadata": {
        "id": "6Pr9opgGqipc",
        "colab_type": "text"
      },
      "source": [
        "|.| Entrada | Saída |\n",
        "|-|:----:|---|\n",
        "| *Exemplo 1* | 5<br/>100<br/>40<br/>32<br/>87<br/>90 | \\[0,20\\) - 1 <br/> \\[20,40\\) - 1 <br/> \\[40,60\\) - 1 <br/> \\[60,80\\) - 0 <br/> \\[80,100\\) - 3  <br/> Máximo: 100 (0) <br/> Mínimo: 32 (2) | \n",
        "| *Exemplo 2* | 3<br/>12<br/>29<br/>45 | \\[0,20\\) - 1 <br/> \\[20,40\\) - 1 <br/> \\[40,60\\) - 1 <br/> \\[60,80\\) - 0 <br/> \\[80,100\\) - 0  <br/> Máximo: 45 (2) <br/> Mínimo: 12 (0) | \n",
        "| *Exemplo 3* | 7<br/>13<br/>88<br/>45<br/>63<br/>94<br/>27<br/>5 | \\[0,20\\) - 1 <br/> \\[20,40\\) - 1 <br/> \\[40,60\\) - 1 <br/> \\[60,80\\) - 1 <br/> \\[80,100\\) - 2  <br/> Máximo: 94 (4) <br/> Mínimo: 5 (6) | \n"
      ]
    },
    {
      "cell_type": "code",
      "metadata": {
        "id": "L7gnfgGG8s-3",
        "colab_type": "code",
        "outputId": "9d2bdeec-b8e6-4e94-b8ed-a85061bc857d",
        "colab": {
          "base_uri": "https://localhost:8080/",
          "height": 168
        }
      },
      "source": [
        "qntd = int(input(\"Digite quantos números serão informados: \"))\n",
        "qntd020 = 0\n",
        "qntd2040 = 0\n",
        "qntd4060 = 0\n",
        "qntd6080 = 0\n",
        "qntd80100 = 0\n",
        "for i in range(0, qntd):\n",
        "    num = int(input(\"Digite um número: \"))\n",
        "    if num >= 0 and num < 20:\n",
        "        qntd020 = qntd020 + 1\n",
        "        \n",
        "    elif num >= 20 and num < 40:\n",
        "        qntd2040 = qntd2040 + 1\n",
        "        \n",
        "    elif num >= 40 and num < 60:\n",
        "        qntd4060 = qntd4060 + 1\n",
        "        \n",
        "    elif num >= 60 and num < 80:\n",
        "        qntd6080 = qntd6080 + 1\n",
        "        \n",
        "    elif num >= 80 and num <= 100:\n",
        "        qntd80100 = qntd80100 + 1\n",
        "        \n",
        "\n",
        "print(\"[0,20)   - \", qntd020)   \n",
        "print(\"[20,40)  - \", qntd2040)\n",
        "print(\"[40,60)  - \", qntd4060)\n",
        "print(\"[60,80)  - \", qntd6080)\n",
        "print(\"[80,100) - \", qntd80100)"
      ],
      "execution_count": 0,
      "outputs": [
        {
          "output_type": "stream",
          "text": [
            "Digite quantos números serão informados: 3\n",
            "Digite um número: 10\n",
            "Digite um número: 30\n",
            "Digite um número: 50\n",
            "[0,20)   -  1\n",
            "[20,40)  -  1\n",
            "[40,60)  -  1\n",
            "[60,80)  -  0\n",
            "[80,100) -  0\n"
          ],
          "name": "stdout"
        }
      ]
    },
    {
      "cell_type": "markdown",
      "metadata": {
        "collapsed": true,
        "id": "k-TSnWm2qipc",
        "colab_type": "text"
      },
      "source": [
        "[1164](https://www.urionlinejudge.com.br/judge/pt/problems/view/1164) - Um número **perfeito** é um número igual à soma dos seus divisores (exceto ele mesmo).\n",
        "\n",
        "O número 28 é um exemplo de número perfeito: 28 = 1 + 2 + 4 + 7 + 14.\n",
        "\n",
        "[1165](https://www.urionlinejudge.com.br/judge/pt/problems/view/1165) - Um número **primo** é um número que só pode ser dividido por 1 e por ele mesmo. \n",
        "\n",
        "O número 17, por exemplo, só pode ser dividido por 1 e por 17.\n",
        "\n",
        "Escreva um código Python que receba um inteiro N e imprima os números do intervalo [1,N] que são primos ou perfeitos."
      ]
    },
    {
      "cell_type": "markdown",
      "metadata": {
        "collapsed": true,
        "id": "PoS49WGDqipd",
        "colab_type": "text"
      },
      "source": [
        "|.| Entrada | Saída |\n",
        "|-|:-:|:-|\n",
        "| *Exemplo 1* | 10 | 1 2 3 5 6 7 10 | \n",
        "| *Exemplo 2* | 15 | 1 2 3 5 6 7 10 11 13 |\n",
        "| *Exemplo 3* | 20 | 1 2 3 5 6 7 10 11 13 17 19 |"
      ]
    },
    {
      "cell_type": "code",
      "metadata": {
        "id": "bZslbL5bqipe",
        "colab_type": "code",
        "outputId": "6c408f64-0e33-4789-abb0-64198045183d",
        "colab": {
          "base_uri": "https://localhost:8080/",
          "height": 34
        }
      },
      "source": [
        "n = int(input('Digite um número inteiro: '))\n",
        "somaperfeito = 0\n",
        "contador = 0\n",
        "\n",
        "\n",
        "for i in range(1, n+1):\n",
        "    if n%i == 0:\n",
        "        contador += 1\n",
        "if contador == 2:\n",
        "    print('{} '.format(n), end='')\n",
        "\n",
        "\n",
        "for c in range(1, n+1):\n",
        "    if n%c == 0:\n",
        "        somaperfeito = somaperfeito + c\n",
        "        if somaperfeito == n:\n",
        "            print('{} '.format(n))\n",
        "            break\n",
        "\n",
        "        \n"
      ],
      "execution_count": 13,
      "outputs": [
        {
          "output_type": "stream",
          "text": [
            "Digite um número inteiro: 20\n"
          ],
          "name": "stdout"
        }
      ]
    },
    {
      "cell_type": "code",
      "metadata": {
        "id": "2Sm4NE_r0djh",
        "colab_type": "code",
        "colab": {}
      },
      "source": [
        ""
      ],
      "execution_count": 0,
      "outputs": []
    },
    {
      "cell_type": "markdown",
      "metadata": {
        "collapsed": true,
        "id": "gzCNijQ9qipg",
        "colab_type": "text"
      },
      "source": [
        "[1789](https://www.urionlinejudge.com.br/judge/pt/problems/view/1789) - Jogos de corrida utilizam simulações baseadas nas regras da física para trazer realismo à experiência do usuário.\n",
        "\n",
        "Neste exercício, você deve simular uma das regras mais simples da mecânica clássica, que mostra que a distância percorrida por um objeto é proporcional à sua velocidade.\n",
        "\n",
        "Neste jogo serão 3 corredores, cada um com uma velocidade dada por um número real sorteado no intervalo [0,100) m/s.\n",
        "\n",
        "Considere que todos os competidores partem do mesmo lugar e apresente a posição de cada corredor atualizada segundo a segundo.\n",
        "\n",
        "Considere ainda que a linha de chegada está a 482m de distância do ponto de partida e encerre a corrida quando o vencedor cruzar a linha, identificando o vencedor.\n",
        "\n",
        "** Dica --** Para gerar um número real aleatório no intervalo [0,100), utilize a função ```uniform(0,100)```."
      ]
    },
    {
      "cell_type": "markdown",
      "metadata": {
        "collapsed": true,
        "id": "bEKRYWgEqiph",
        "colab_type": "text"
      },
      "source": [
        "|.| Velocidades | Saída |\n",
        "|-|:-:|:-|\n",
        "| *Exemplo 1* | 15.38<br/>55.49<br/>48.65  | 15.38 55.49 48.65 <br/> 30.76 110.98 97.30 <br/> 46.14 166.47 145.95 <br/> 61.52 221.96 194.60 <br/> 76.90 277.45 243.25 <br/> 92.28 332.94 291.90 <br/> 107.66 388.43 340.55 <br/> 123.04 443.92 389.20 <br/> 138.42 499.41 437.85 <br/> P2 | \n",
        "| *Exemplo 2* | 42.27<br/>95.26<br/>72.25 | 42.27 95.26 72.25 <br/> 84.54 190.52 144.50 <br/> 126.81 285.78 216.75 <br/> 169.08 381.04 289.00 <br/> 211.35 476.30 361.25 <br/> 253.62 571.56 433.50 <br/> P2 |\n",
        "| *Exemplo 3* | 98.76<br/>93.21<br/>96.65 | 98.76 93.21 96.65 <br/> 197.52 186.42 193.30 <br/> 296.28 279.63 289.95 <br/> 395.04 372.84 386.60 <br/> 493.80 466.05 483.25 <br/> P1 |"
      ]
    },
    {
      "cell_type": "code",
      "metadata": {
        "id": "oZm2osS3qipi",
        "colab_type": "code",
        "colab": {
          "base_uri": "https://localhost:8080/",
          "height": 235
        },
        "outputId": "88994db3-2ef1-440b-ea8d-7911fd79915e"
      },
      "source": [
        "from random import uniform\n",
        "vj1 = uniform(0,100)\n",
        "vj2 = uniform(0,100)\n",
        "vj3 = uniform(0,100)\n",
        "tempo = 0\n",
        "distancia1 = distancia2 = distancia3 = 0\n",
        "while distancia1 <= 482 and distancia2 <= 482 and distancia3 <= 482:\n",
        "    \n",
        "    distancia1 = vj1 * tempo\n",
        "    distancia2 = vj2 * tempo\n",
        "    distancia3 = vj3 * tempo\n",
        "    tempo = tempo + 1\n",
        "    print ('{:.2f} '.format(distancia1), '{:.2f} '.format(distancia2), '{:.2f}'.format(distancia3))\n",
        "    \n",
        "if distancia1 > distancia2 > distancia3 or distancia1 > distancia3 > distancia2:\n",
        "    print('Jogador 1 Venceu!')\n",
        "elif distancia2 > distancia1 > distancia3 or distancia2 > distancia3 > distancia1:\n",
        "    print('Jogador 2 Venceu!')\n",
        "else:\n",
        "    print('Jogador 3 Venceu!')\n",
        "    \n",
        "\n",
        "\n"
      ],
      "execution_count": 38,
      "outputs": [
        {
          "output_type": "stream",
          "text": [
            "0.00  0.00  0.00\n",
            "0.08  4.17  47.44\n",
            "0.16  8.35  94.87\n",
            "0.23  12.52  142.31\n",
            "0.31  16.70  189.75\n",
            "0.39  20.87  237.18\n",
            "0.47  25.05  284.62\n",
            "0.54  29.22  332.05\n",
            "0.62  33.40  379.49\n",
            "0.70  37.57  426.93\n",
            "0.78  41.74  474.36\n",
            "0.85  45.92  521.80\n",
            "Jogador 3 Venceu!\n"
          ],
          "name": "stdout"
        }
      ]
    },
    {
      "cell_type": "markdown",
      "metadata": {
        "collapsed": true,
        "id": "GjO-gy8Eqipl",
        "colab_type": "text"
      },
      "source": [
        "[1828](https://www.urionlinejudge.com.br/judge/pt/problems/view/1828) - Pedra, paper e tesoura, ou じゃんけんぽん (jankenpon), é um jogo simples que envolve apenas quatro regras:\n",
        "\n",
        "- Dois jogadores disputam entre si, podendo escolher entre 3 opções de ação: pedra, papel ou tesoura.\n",
        "- A pedra quebra a tesoura.\n",
        "- A tesoura corta o papel.\n",
        "- O papel embrulha a pedra.\n",
        "\n",
        "Também é possível que não haja um vencedor, quando os dois jogadores escolhem a mesma ação.\n",
        "\n",
        "Escreva um código Python que receba um inteiro informando número de rodadas de uma partida e simule dois jogadores competindo entre si. Você deve imprimir as ações e o vencedor de cada rodada, bem como o vencedor da partida."
      ]
    },
    {
      "cell_type": "markdown",
      "metadata": {
        "id": "seqGrpKAqipn",
        "colab_type": "text"
      },
      "source": [
        "|.| Entrada | Saída |\n",
        "|-|:-:|:-|\n",
        "| *Exemplo 1* | 3  | Jogador 2 <br/> Empate <br/> Jogador 2 <br/> Placar final: 0 x 2 <br/> Partida vencida pelo Jogador 2! | \n",
        "| *Exemplo 2* | 5 | Jogador 1 <br/> Jogador 1 <br/> Empate <br/> Empate <br/> Jogador 1 <br/> Placar final: 3 x 0 <br/> Partida vencida pelo Jogador 1! |\n",
        "| *Exemplo 3* | 4 | Empate <br/> Jogador 2 <br/> Empate <br/> Empate <br/> Placar final: 0 x 1 <br/> Partida vencida pelo Jogador 2! |"
      ]
    },
    {
      "cell_type": "code",
      "metadata": {
        "id": "0n4F5cqbqipn",
        "colab_type": "code",
        "colab": {
          "base_uri": "https://localhost:8080/",
          "height": 470
        },
        "outputId": "3dbd1cb5-e973-4ee5-e146-588d06ad7ce9"
      },
      "source": [
        "rodadas = int(input('Digite o número de rodadas: '))\n",
        "\n",
        "itens = ('Pedra', 'Papel', 'Tesoura')\n",
        "vitorias1 = 0\n",
        "vitorias2 = 0\n",
        "for i in range(0, rodadas):\n",
        "    print('''Suas opções:\n",
        "    [ 0 ] Pedra\n",
        "    [ 1 ] Papel\n",
        "    [ 2 ] Tesouro''')\n",
        "    jogador1 = int(input('Jogador 1, qual a sua jogada? '))\n",
        "    jogador2 = int(input('Jogador 2, qual a sua jogada? '))\n",
        "    print('-='*12)\n",
        "    print('Jogador 1 jogou {}'.format(itens[jogador1]))\n",
        "    print('Jogador 2 jogou {}'.format(itens[jogador2]))\n",
        "    print('-='*12)\n",
        "\n",
        "    if jogador1 == 0: #Pedra\n",
        "        if jogador2 ==0:\n",
        "            print('EMPATOU')\n",
        "        elif jogador2 == 1:\n",
        "            print('JOGADOR 2 VENCE')\n",
        "            vitorias2 += 1\n",
        "        elif jogador2 == 2:\n",
        "            print('JOGADOR 1 VENCE')\n",
        "            vitorias1 += 1\n",
        "        else:\n",
        "            print('Jogada Inválida!')\n",
        "    elif jogador1 == 1: # Papel\n",
        "        if jogador2 == 0:\n",
        "            print('JOGADOR 1 VENCE')\n",
        "            vitorias1 += 1\n",
        "        elif jogador2 == 1:\n",
        "            print('EMPATOU')\n",
        "\n",
        "        elif jogador2 == 2:\n",
        "            print('JOGADOR 2 VENCE')\n",
        "            vitorias2 += 1\n",
        "\n",
        "        else:\n",
        "            print('Jogada Inválida!')\n",
        "\n",
        "    elif jogador1 == 2:#Tesouro\n",
        "        if jogador2 == 0:\n",
        "            print('JOGADOR 2 VENCE')\n",
        "            vitorias2 += 1\n",
        "        elif jogador2 == 1:\n",
        "            print('JOGADOR 1 VENCE')\n",
        "            vitorias1 += 1\n",
        "        elif jogador2 == 2:\n",
        "            print('EMPATOU')\n",
        "        else:\n",
        "            print('Jogada Inválida!')\n",
        "    print('X'*30)\n",
        "\n",
        "print('Placar final: {} x {}'.format(vitorias1, vitorias2))\n",
        "if vitorias1 > vitorias2:\n",
        "    print('Partida vencida pelo Jogador 1!')\n",
        "elif vitorias2 > vitorias1:\n",
        "    print('Partida vencida pelo Jogador 2!')\n",
        "else:\n",
        "    print('Partida EMPATADA!')\n",
        "    "
      ],
      "execution_count": 50,
      "outputs": [
        {
          "output_type": "stream",
          "text": [
            "Digite o número de rodadas: 2\n",
            "Suas opções:\n",
            "    [ 0 ] Pedra\n",
            "    [ 1 ] Papel\n",
            "    [ 2 ] Tesouro\n",
            "Jogador 1, qual a sua jogada? 0\n",
            "Jogador 2, qual a sua jogada? 1\n",
            "-=-=-=-=-=-=-=-=-=-=-=-=\n",
            "Jogador 1 jogou Pedra\n",
            "Jogador 2 jogou Papel\n",
            "-=-=-=-=-=-=-=-=-=-=-=-=\n",
            "JOGADOR 2 VENCE\n",
            "XXXXXXXXXXXXXXXXXXXXXXXXXXXXXX\n",
            "Suas opções:\n",
            "    [ 0 ] Pedra\n",
            "    [ 1 ] Papel\n",
            "    [ 2 ] Tesouro\n",
            "Jogador 1, qual a sua jogada? 2\n",
            "Jogador 2, qual a sua jogada? 1\n",
            "-=-=-=-=-=-=-=-=-=-=-=-=\n",
            "Jogador 1 jogou Tesoura\n",
            "Jogador 2 jogou Papel\n",
            "-=-=-=-=-=-=-=-=-=-=-=-=\n",
            "JOGADOR 1 VENCE\n",
            "XXXXXXXXXXXXXXXXXXXXXXXXXXXXXX\n",
            "Placar final: 1 x 1\n",
            "Partida EMPATADA!\n"
          ],
          "name": "stdout"
        }
      ]
    },
    {
      "cell_type": "markdown",
      "metadata": {
        "id": "HiV0JsuHqipp",
        "colab_type": "text"
      },
      "source": [
        "Agora que você já sabe até como criar um jogo de jonkenpon, implemente uma versão em que você pode jogar contra o computador e mostre que você pode derrotá-lo :D"
      ]
    },
    {
      "cell_type": "code",
      "metadata": {
        "id": "ss7sHJbUqipq",
        "colab_type": "code",
        "colab": {
          "base_uri": "https://localhost:8080/",
          "height": 235
        },
        "outputId": "e88b8248-39c0-4403-f12a-07c7ee1f82b9"
      },
      "source": [
        "from random import randint\n",
        "from time import sleep\n",
        "itens = ('Pedra', 'Papel', 'Tesoura')\n",
        "computador = randint(0,2)\n",
        "print('''Suas opções:\n",
        "[ 0 ] Pedra\n",
        "[ 1 ] Papel\n",
        "[ 2 ] Tesouro''')\n",
        "jogador = int(input('Qual a sua jogada? '))\n",
        "print('JO')\n",
        "sleep(1)\n",
        "print('KEN')\n",
        "sleep(1)\n",
        "print('PO')\n",
        "print('-='*12)\n",
        "print('Computador jogou {}'.format(itens[computador]))\n",
        "print('Jogador jogou {}'.format(itens[jogador]))\n",
        "print('-='*12)\n",
        "\n",
        "if computador == 0: #Pedra\n",
        "    if jogador ==0:\n",
        "        print('EMPATOU')\n",
        "    elif jogador == 1:\n",
        "        print('JOGADOR VENCE')\n",
        "    elif jogador == 2:\n",
        "        print('COMPUTADOR VENCE')\n",
        "    else:\n",
        "        print('Jogada Inválida!')\n",
        "elif computador == 1: # Papel\n",
        "    if jogador == 0:\n",
        "        print('COMPUTADOR VENCE')\n",
        "    elif jogador == 1:\n",
        "        print('EMPATOU')\n",
        "\n",
        "    elif jogador == 2:\n",
        "        print('JOGADOR VENCE')\n",
        "\n",
        "    else:\n",
        "        print('Jogada Inválida!')\n",
        "\n",
        "elif computador == 2:#Tesouro\n",
        "    if jogador == 0:\n",
        "        print('JOGADOR VENCE')\n",
        "    elif jogador == 1:\n",
        "        print('COMPUTADOR VENCE')\n",
        "    elif jogador == 2:\n",
        "        print('EMPATOU')\n",
        "    else:\n",
        "        print('Jogada Inválida!')"
      ],
      "execution_count": 51,
      "outputs": [
        {
          "output_type": "stream",
          "text": [
            "Suas opções:\n",
            "[ 0 ] Pedra\n",
            "[ 1 ] Papel\n",
            "[ 2 ] Tesouro\n",
            "Qual a sua jogada? 1\n",
            "JO\n",
            "KEN\n",
            "PO\n",
            "-=-=-=-=-=-=-=-=-=-=-=-=\n",
            "Computador jogou Tesoura\n",
            "Jogador jogou Papel\n",
            "-=-=-=-=-=-=-=-=-=-=-=-=\n",
            "COMPUTADOR VENCE\n"
          ],
          "name": "stdout"
        }
      ]
    },
    {
      "cell_type": "markdown",
      "metadata": {
        "id": "B3k5WGj4qips",
        "colab_type": "text"
      },
      "source": [
        "[Blackjack](https://pt.wikipedia.org/wiki/Blackjack) - Vinte-e-um (21) é um dos mais icônicos jogos de cartas, onde um jogador real compete contra um jogador imaginário (a banca) para ver quem consegue o jogo de maior valor sem estourar o limite de 21 pontos.\n",
        "\n",
        "Por simplicidade, considere apenas as seguintes regras:\n",
        "- Cada jogador pode pedir uma carta por rodada ou dizer que quer parar de pedir.\n",
        "- O jogador que acumular mais de 21 pontos perde a partida.\n",
        "- Se o jogador e a banca atingirem o mesmo número de pontos, a partida termina empatada.\n",
        "- As cartas numéricas valem o número de pontos que elas indicam (ex: 2 vale 2, 10 vale 10).\n",
        "- As cartas de figuras (rei, valete e dama) valem 10 pontos.\n",
        "- O Ás vale 11 pontos.\n",
        "\n",
        "Escreva um código Python que te permite jogar blackjack contra o computador, escrevendo a cada rodada o valor do jogo de cada jogador e, ao final, o vencedor da partida."
      ]
    },
    {
      "cell_type": "code",
      "metadata": {
        "id": "2W5gTvhmqipt",
        "colab_type": "code",
        "colab": {
          "base_uri": "https://localhost:8080/",
          "height": 218
        },
        "outputId": "1c139a0f-3d6f-4d8d-9851-c1b6fcd22e1c"
      },
      "source": [
        "from random import randint\n",
        "\n",
        "somajogador = 0\n",
        "somacomputador = 0\n",
        "pegarcarta = 0\n",
        "print('-----------------BLACKJACK--------------------')\n",
        "while pegarcarta == 0:\n",
        "    cartacomputador = randint(1,11)\n",
        "    cartajogador = randint(1,11)\n",
        "    \n",
        "    somajogador = somajogador + cartajogador\n",
        "    somacomputador += cartacomputador\n",
        "    print('\\nVocê pegou um {} e soma {} pontos.'.format(cartajogador, somajogador))\n",
        "    print('Computador pegou um {} e soma {} pontos.'.format(cartacomputador, somacomputador))\n",
        "    \n",
        "    if somajogador > 21:\n",
        "        print('-='*20)\n",
        "        print('Você somou {} pontos, logo Você PERDEU!'.format(somajogador))\n",
        "        break\n",
        "    \n",
        "    if somacomputador > 21:\n",
        "        print('-='*20)\n",
        "        print('Computador somou {} pontos, logo o Computador PERDEU!'.format(somacomputador))\n",
        "        break\n",
        "    pegarcarta = int(input('\\n>> Digite 0 para CONTINUAR ou qualquer coisa para PARAR: '))\n",
        "    \n",
        "if somajogador <= 21 and somacomputador <= 21:\n",
        "    if somajogador > somacomputador:\n",
        "        print('Você VENCEU!')\n",
        "    elif somajogador < somacomputador:\n",
        "        print('Você PERDEU!')\n",
        "    else:\n",
        "        print('EMPATOU!')\n",
        "    \n"
      ],
      "execution_count": 68,
      "outputs": [
        {
          "output_type": "stream",
          "text": [
            "-----------------BLACKJACK--------------------\n",
            "\n",
            "Você pegou um 3 e soma 3 pontos.\n",
            "Computador pegou um 7 e soma 7 pontos.\n",
            "\n",
            ">> Digite 0 para CONTINUAR ou qualquer coisa para PARAR: 0\n",
            "\n",
            "Você pegou um 1 e soma 4 pontos.\n",
            "Computador pegou um 8 e soma 15 pontos.\n",
            "\n",
            ">> Digite 0 para CONTINUAR ou qualquer coisa para PARAR: 1\n",
            "Você PERDEU!\n"
          ],
          "name": "stdout"
        }
      ]
    }
  ]
}